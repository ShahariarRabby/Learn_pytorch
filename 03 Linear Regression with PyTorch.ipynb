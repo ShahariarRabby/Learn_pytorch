{
 "cells": [
  {
   "cell_type": "markdown",
   "metadata": {},
   "source": [
    "Simple linear Regression allows us to underestand relationship between two contimous variables"
   ]
  },
  {
   "cell_type": "markdown",
   "metadata": {},
   "source": [
    "## Example of simple liner Regression"
   ]
  },
  {
   "cell_type": "code",
   "execution_count": 1,
   "metadata": {
    "collapsed": true
   },
   "outputs": [],
   "source": [
    "import numpy as np\n",
    "import matplotlib.pyplot as plt\n",
    "import time"
   ]
  },
  {
   "cell_type": "code",
   "execution_count": 2,
   "metadata": {},
   "outputs": [
    {
     "data": {
      "image/png": "[encoded data removed]",
      "text/plain": [
       "<matplotlib.figure.Figure at 0x22485659fd0>"
      ]
     },
     "metadata": {},
     "output_type": "display_data"
    }
   ],
   "source": [
    "np.random.seed(1)\n",
    "n = 50\n",
    "x = np.random.randn(n)\n",
    "y = x * np.random.randn(n)\n",
    "\n",
    "colors = np.random.randn(n)\n",
    "plt.plot(np.unique(x), np.poly1d(np.polyfit(x, y, 1)) (np.unique(x)))\n",
    "\n",
    "plt.scatter(x, y, c = colors, alpha=0.5)\n",
    "plt.show()"
   ]
  },
  {
   "cell_type": "markdown",
   "metadata": {},
   "source": [
    "## Build a liner regression model with pytorch"
   ]
  },
  {
   "cell_type": "code",
   "execution_count": 3,
   "metadata": {},
   "outputs": [
    {
     "data": {
      "text/plain": [
       "[0, 1, 2, 3, 4, 5, 6, 7, 8, 9, 10]"
      ]
     },
     "execution_count": 3,
     "metadata": {},
     "output_type": "execute_result"
    }
   ],
   "source": [
    "x_value = [i for i in range(11)]\n",
    "x_value"
   ]
  },
  {
   "cell_type": "code",
   "execution_count": 4,
   "metadata": {
    "collapsed": true
   },
   "outputs": [],
   "source": [
    "# convert to numpy\n",
    "x_train = np.array(x_value, dtype=np.float32)"
   ]
  },
  {
   "cell_type": "code",
   "execution_count": 5,
   "metadata": {},
   "outputs": [
    {
     "data": {
      "text/plain": [
       "(11, 1)"
      ]
     },
     "execution_count": 5,
     "metadata": {},
     "output_type": "execute_result"
    }
   ],
   "source": [
    "x_train = x_train.reshape(-1, 1)\n",
    "x_train.shape"
   ]
  },
  {
   "cell_type": "code",
   "execution_count": 6,
   "metadata": {},
   "outputs": [
    {
     "data": {
      "text/plain": [
       "[1, 3, 5, 7, 9, 11, 13, 15, 17, 19, 21]"
      ]
     },
     "execution_count": 6,
     "metadata": {},
     "output_type": "execute_result"
    }
   ],
   "source": [
    "# y = 2x + 1\n",
    "y_value = [2 * i + 1 for i in x_value]\n",
    "y_value"
   ]
  },
  {
   "cell_type": "code",
   "execution_count": 7,
   "metadata": {},
   "outputs": [
    {
     "data": {
      "text/plain": [
       "(11, 1)"
      ]
     },
     "execution_count": 7,
     "metadata": {},
     "output_type": "execute_result"
    }
   ],
   "source": [
    "y_train = np.array(y_value, dtype=np.float32)\n",
    "y_train = y_train.reshape(-1, 1)\n",
    "y_train.shape"
   ]
  },
  {
   "cell_type": "markdown",
   "metadata": {},
   "source": [
    "## Building Model"
   ]
  },
  {
   "cell_type": "code",
   "execution_count": 8,
   "metadata": {
    "collapsed": true
   },
   "outputs": [],
   "source": [
    "import torch\n",
    "from torch.autograd import Variable\n",
    "import torch.nn as nn"
   ]
  },
  {
   "cell_type": "markdown",
   "metadata": {},
   "source": [
    "### Create model\n",
    "1. Liner model\n",
    "    * True eqn : y = 2x + 1\n",
    "2. Forward\n",
    "    * Example\n",
    "        * input x = 1\n",
    "        * y = ?"
   ]
  },
  {
   "cell_type": "code",
   "execution_count": 9,
   "metadata": {
    "collapsed": true
   },
   "outputs": [],
   "source": [
    "# create class\n",
    "class LinearRegressionModel(nn.Module):\n",
    "    \n",
    "    def __init__(self, input_size, output_size):\n",
    "        super(LinearRegressionModel, self).__init__()\n",
    "        self.linear = nn.Linear(input_dim, output_dim)\n",
    "        \n",
    "    def forward(self, x):\n",
    "        out = self.linear(x)\n",
    "        return out"
   ]
  },
  {
   "cell_type": "code",
   "execution_count": 10,
   "metadata": {
    "collapsed": true
   },
   "outputs": [],
   "source": [
    "input_dim, output_dim = 1, 1\n",
    "model = LinearRegressionModel(input_dim, output_dim)"
   ]
  },
  {
   "cell_type": "code",
   "execution_count": 11,
   "metadata": {
    "collapsed": true
   },
   "outputs": [],
   "source": [
    "# MSE Loss = Mean Squered Error\n",
    "\n",
    "criteration = nn.MSELoss()"
   ]
  },
  {
   "cell_type": "code",
   "execution_count": 12,
   "metadata": {
    "collapsed": true
   },
   "outputs": [],
   "source": [
    "# Optimizer Class\n",
    "\n",
    "learning_rate = 0.01\n",
    "\n",
    "optimizer = torch.optim.Adam(model.parameters(), lr = learning_rate)"
   ]
  },
  {
   "cell_type": "markdown",
   "metadata": {},
   "source": [
    "**Train Model**\n"
   ]
  },
  {
   "cell_type": "code",
   "execution_count": 13,
   "metadata": {},
   "outputs": [
    {
     "name": "stdout",
     "output_type": "stream",
     "text": [
      "Epocs 1 loss 64.36959838867188\n",
      "Epocs 2 loss 63.285911560058594\n",
      "Epocs 3 loss 62.2116813659668\n",
      "Epocs 4 loss 61.147056579589844\n",
      "Epocs 5 loss 60.092185974121094\n",
      "Epocs 6 loss 59.0472297668457\n",
      "Epocs 7 loss 58.012325286865234\n",
      "Epocs 8 loss 56.987606048583984\n",
      "Epocs 9 loss 55.97321701049805\n",
      "Epocs 10 loss 54.969276428222656\n",
      "Epocs 11 loss 53.975894927978516\n",
      "Epocs 12 loss 52.99319839477539\n",
      "Epocs 13 loss 52.02128601074219\n",
      "Epocs 14 loss 51.06025314331055\n",
      "Epocs 15 loss 50.11019515991211\n",
      "Epocs 16 loss 49.17119216918945\n",
      "Epocs 17 loss 48.24332046508789\n",
      "Epocs 18 loss 47.32664489746094\n",
      "Epocs 19 loss 46.42123031616211\n",
      "Epocs 20 loss 45.5271110534668\n",
      "Epocs 21 loss 44.644351959228516\n",
      "Epocs 22 loss 43.77298355102539\n",
      "Epocs 23 loss 42.913028717041016\n",
      "Epocs 24 loss 42.064517974853516\n",
      "Epocs 25 loss 41.22746276855469\n",
      "Epocs 26 loss 40.40187072753906\n",
      "Epocs 27 loss 39.587745666503906\n",
      "Epocs 28 loss 38.78507614135742\n",
      "Epocs 29 loss 37.99385070800781\n",
      "Epocs 30 loss 37.214054107666016\n",
      "Epocs 31 loss 36.44566345214844\n",
      "Epocs 32 loss 35.688636779785156\n",
      "Epocs 33 loss 34.94294738769531\n",
      "Epocs 34 loss 34.208560943603516\n",
      "Epocs 35 loss 33.485416412353516\n",
      "Epocs 36 loss 32.77346420288086\n",
      "Epocs 37 loss 32.07266616821289\n",
      "Epocs 38 loss 31.382946014404297\n",
      "Epocs 39 loss 30.70423126220703\n",
      "Epocs 40 loss 30.036476135253906\n",
      "Epocs 41 loss 29.37959098815918\n",
      "Epocs 42 loss 28.733509063720703\n",
      "Epocs 43 loss 28.098155975341797\n",
      "Epocs 44 loss 27.47344398498535\n",
      "Epocs 45 loss 26.859283447265625\n",
      "Epocs 46 loss 26.255598068237305\n",
      "Epocs 47 loss 25.66229248046875\n",
      "Epocs 48 loss 25.07927703857422\n",
      "Epocs 49 loss 24.506452560424805\n",
      "Epocs 50 loss 23.94373321533203\n",
      "Epocs 51 loss 23.391016006469727\n",
      "Epocs 52 loss 22.848203659057617\n",
      "Epocs 53 loss 22.315187454223633\n",
      "Epocs 54 loss 21.791881561279297\n",
      "Epocs 55 loss 21.278169631958008\n",
      "Epocs 56 loss 20.773950576782227\n",
      "Epocs 57 loss 20.27912139892578\n",
      "Epocs 58 loss 19.7935733795166\n",
      "Epocs 59 loss 19.317197799682617\n",
      "Epocs 60 loss 18.849895477294922\n",
      "Epocs 61 loss 18.39154815673828\n",
      "Epocs 62 loss 17.942052841186523\n",
      "Epocs 63 loss 17.501298904418945\n",
      "Epocs 64 loss 17.069177627563477\n",
      "Epocs 65 loss 16.645580291748047\n",
      "Epocs 66 loss 16.230398178100586\n",
      "Epocs 67 loss 15.823516845703125\n",
      "Epocs 68 loss 15.424825668334961\n",
      "Epocs 69 loss 15.034218788146973\n",
      "Epocs 70 loss 14.651586532592773\n",
      "Epocs 71 loss 14.27681827545166\n",
      "Epocs 72 loss 13.909799575805664\n",
      "Epocs 73 loss 13.550423622131348\n",
      "Epocs 74 loss 13.198583602905273\n",
      "Epocs 75 loss 12.854170799255371\n",
      "Epocs 76 loss 12.517070770263672\n",
      "Epocs 77 loss 12.187179565429688\n",
      "Epocs 78 loss 11.864388465881348\n",
      "Epocs 79 loss 11.548592567443848\n",
      "Epocs 80 loss 11.239679336547852\n",
      "Epocs 81 loss 10.937549591064453\n",
      "Epocs 82 loss 10.64208984375\n",
      "Epocs 83 loss 10.35319995880127\n",
      "Epocs 84 loss 10.070768356323242\n",
      "Epocs 85 loss 9.794695854187012\n",
      "Epocs 86 loss 9.524880409240723\n",
      "Epocs 87 loss 9.261211395263672\n",
      "Epocs 88 loss 9.003594398498535\n",
      "Epocs 89 loss 8.751925468444824\n",
      "Epocs 90 loss 8.506104469299316\n",
      "Epocs 91 loss 8.266029357910156\n",
      "Epocs 92 loss 8.031601905822754\n",
      "Epocs 93 loss 7.802721977233887\n",
      "Epocs 94 loss 7.579297065734863\n",
      "Epocs 95 loss 7.361224174499512\n",
      "Epocs 96 loss 7.148407459259033\n",
      "Epocs 97 loss 6.9407572746276855\n",
      "Epocs 98 loss 6.73817253112793\n",
      "Epocs 99 loss 6.540563583374023\n",
      "Epocs 100 loss 6.347836494445801\n",
      "Cpu Time 1.3443241119384766\n"
     ]
    }
   ],
   "source": [
    "a = time.time()\n",
    "epochs = 100\n",
    "\n",
    "for epoch in range(1, epochs+1):\n",
    "    \n",
    "    # Convert Numpy array to torch\n",
    "    inputs = Variable(torch.from_numpy(x_train))\n",
    "    labels = Variable(torch.from_numpy(y_train))\n",
    "    \n",
    "    # Clear Gradeients WRT\n",
    "    optimizer.zero_grad()\n",
    "    \n",
    "    # Forward to get output \n",
    "    outputs = model(inputs)\n",
    "    \n",
    "    # Calculate Loss\n",
    "    loss = criteration(outputs, labels)\n",
    "    \n",
    "    # Getting Gradients w.r.t param\n",
    "    loss.backward()\n",
    "    \n",
    "    # Updating Parm\n",
    "    optimizer.step()\n",
    "    \n",
    "    print('Epocs', epoch, 'loss', loss.data[0])\n",
    "    \n",
    "print('Cpu Time', time.time() - a)\n",
    "del a"
   ]
  },
  {
   "cell_type": "code",
   "execution_count": 14,
   "metadata": {},
   "outputs": [
    {
     "data": {
      "text/plain": [
       "array([[  0.73339951],\n",
       "       [  2.35265732],\n",
       "       [  3.97191477],\n",
       "       [  5.5911727 ],\n",
       "       [  7.21043015],\n",
       "       [  8.82968807],\n",
       "       [ 10.448946  ],\n",
       "       [ 12.06820297],\n",
       "       [ 13.6874609 ],\n",
       "       [ 15.30671883],\n",
       "       [ 16.9259758 ]], dtype=float32)"
      ]
     },
     "execution_count": 14,
     "metadata": {},
     "output_type": "execute_result"
    }
   ],
   "source": [
    "# Compare data\n",
    "predicted = model(Variable(torch.from_numpy(x_train))).data.numpy()\n",
    "predicted"
   ]
  },
  {
   "cell_type": "code",
   "execution_count": 15,
   "metadata": {},
   "outputs": [
    {
     "data": {
      "text/plain": [
       "array([[  1.],\n",
       "       [  3.],\n",
       "       [  5.],\n",
       "       [  7.],\n",
       "       [  9.],\n",
       "       [ 11.],\n",
       "       [ 13.],\n",
       "       [ 15.],\n",
       "       [ 17.],\n",
       "       [ 19.],\n",
       "       [ 21.]], dtype=float32)"
      ]
     },
     "execution_count": 15,
     "metadata": {},
     "output_type": "execute_result"
    }
   ],
   "source": [
    "y_train"
   ]
  },
  {
   "cell_type": "markdown",
   "metadata": {},
   "source": [
    "**Save model**\n"
   ]
  },
  {
   "cell_type": "code",
   "execution_count": 16,
   "metadata": {
    "collapsed": true
   },
   "outputs": [],
   "source": [
    "torch.save(model.state_dict(), '03 Linear Regression with PyTorch.pkl')"
   ]
  },
  {
   "cell_type": "markdown",
   "metadata": {},
   "source": [
    "**Load Model**"
   ]
  },
  {
   "cell_type": "code",
   "execution_count": 17,
   "metadata": {
    "collapsed": true
   },
   "outputs": [],
   "source": [
    "model.load_state_dict(torch.load(\"03 Linear Regression with PyTorch.pkl\"))"
   ]
  },
  {
   "cell_type": "markdown",
   "metadata": {},
   "source": [
    "# Use GPU"
   ]
  },
  {
   "cell_type": "code",
   "execution_count": 18,
   "metadata": {
    "collapsed": true
   },
   "outputs": [],
   "source": [
    "# create class\n",
    "class LinearRegressionModel(nn.Module):\n",
    "    \n",
    "    def __init__(self, input_size, output_size):\n",
    "        super(LinearRegressionModel, self).__init__()\n",
    "        self.linear = nn.Linear(input_dim, output_dim)\n",
    "        \n",
    "    def forward(self, x):\n",
    "        out = self.linear(x)\n",
    "        return out\n",
    "\n",
    "input_dim, output_dim = 1, 1\n",
    "model = LinearRegressionModel(input_dim, output_dim)"
   ]
  },
  {
   "cell_type": "code",
   "execution_count": 19,
   "metadata": {},
   "outputs": [
    {
     "name": "stdout",
     "output_type": "stream",
     "text": [
      "Cuda Available\n"
     ]
    }
   ],
   "source": [
    "# Everithing on the CPU is same as GPU\n",
    "# But there is some change Let's see\n",
    "\n",
    "if torch.cuda.is_available():\n",
    "    print('Cuda Available')\n",
    "    model.cuda()"
   ]
  },
  {
   "cell_type": "code",
   "execution_count": 20,
   "metadata": {
    "collapsed": true
   },
   "outputs": [],
   "source": [
    "# MSE Loss = Mean Squered Error\n",
    "\n",
    "criteration = nn.MSELoss()\n",
    "\n",
    "# Optimizer Class\n",
    "\n",
    "learning_rate = 0.01\n",
    "\n",
    "optimizer = torch.optim.Adam(model.parameters(), lr = learning_rate)"
   ]
  },
  {
   "cell_type": "code",
   "execution_count": 21,
   "metadata": {},
   "outputs": [
    {
     "name": "stdout",
     "output_type": "stream",
     "text": [
      "Cuda Available\n",
      "Epocs 1 loss 156.33799743652344\n",
      "Epocs 2 loss 154.64662170410156\n",
      "Epocs 3 loss 152.96469116210938\n",
      "Epocs 4 loss 151.29234313964844\n",
      "Epocs 5 loss 149.6297607421875\n",
      "Epocs 6 loss 147.97711181640625\n",
      "Epocs 7 loss 146.3345184326172\n",
      "Epocs 8 loss 144.7021026611328\n",
      "Epocs 9 loss 143.0800323486328\n",
      "Epocs 10 loss 141.4684600830078\n",
      "Epocs 11 loss 139.86749267578125\n",
      "Epocs 12 loss 138.27725219726562\n",
      "Epocs 13 loss 136.69786071777344\n",
      "Epocs 14 loss 135.12940979003906\n",
      "Epocs 15 loss 133.57205200195312\n",
      "Epocs 16 loss 132.02586364746094\n",
      "Epocs 17 loss 130.49093627929688\n",
      "Epocs 18 loss 128.9673614501953\n",
      "Epocs 19 loss 127.45520782470703\n",
      "Epocs 20 loss 125.95458984375\n",
      "Epocs 21 loss 124.46553039550781\n",
      "Epocs 22 loss 122.98812866210938\n",
      "Epocs 23 loss 121.52240753173828\n",
      "Epocs 24 loss 120.0684585571289\n",
      "Epocs 25 loss 118.62628936767578\n",
      "Epocs 26 loss 117.19595336914062\n",
      "Epocs 27 loss 115.77749633789062\n",
      "Epocs 28 loss 114.37094116210938\n",
      "Epocs 29 loss 112.9762954711914\n",
      "Epocs 30 loss 111.59359741210938\n",
      "Epocs 31 loss 110.22283172607422\n",
      "Epocs 32 loss 108.864013671875\n",
      "Epocs 33 loss 107.51718139648438\n",
      "Epocs 34 loss 106.18229675292969\n",
      "Epocs 35 loss 104.8593521118164\n",
      "Epocs 36 loss 103.54834747314453\n",
      "Epocs 37 loss 102.249267578125\n",
      "Epocs 38 loss 100.96208953857422\n",
      "Epocs 39 loss 99.68681335449219\n",
      "Epocs 40 loss 98.42338562011719\n",
      "Epocs 41 loss 97.17179870605469\n",
      "Epocs 42 loss 95.93199920654297\n",
      "Epocs 43 loss 94.7039566040039\n",
      "Epocs 44 loss 93.4876480102539\n",
      "Epocs 45 loss 92.28302764892578\n",
      "Epocs 46 loss 91.09005737304688\n",
      "Epocs 47 loss 89.90868377685547\n",
      "Epocs 48 loss 88.73886108398438\n",
      "Epocs 49 loss 87.58055877685547\n",
      "Epocs 50 loss 86.43370819091797\n",
      "Epocs 51 loss 85.29824829101562\n",
      "Epocs 52 loss 84.17416381835938\n",
      "Epocs 53 loss 83.06134796142578\n",
      "Epocs 54 loss 81.95978546142578\n",
      "Epocs 55 loss 80.8694076538086\n",
      "Epocs 56 loss 79.79015350341797\n",
      "Epocs 57 loss 78.72195434570312\n",
      "Epocs 58 loss 77.66476440429688\n",
      "Epocs 59 loss 76.61851501464844\n",
      "Epocs 60 loss 75.58314514160156\n",
      "Epocs 61 loss 74.55859375\n",
      "Epocs 62 loss 73.54478454589844\n",
      "Epocs 63 loss 72.54167175292969\n",
      "Epocs 64 loss 71.5491714477539\n",
      "Epocs 65 loss 70.56723022460938\n",
      "Epocs 66 loss 69.59577178955078\n",
      "Epocs 67 loss 68.63475036621094\n",
      "Epocs 68 loss 67.68407440185547\n",
      "Epocs 69 loss 66.74368286132812\n",
      "Epocs 70 loss 65.81352233886719\n",
      "Epocs 71 loss 64.89350128173828\n",
      "Epocs 72 loss 63.98356628417969\n",
      "Epocs 73 loss 63.0836296081543\n",
      "Epocs 74 loss 62.19365310668945\n",
      "Epocs 75 loss 61.31355285644531\n",
      "Epocs 76 loss 60.4432487487793\n",
      "Epocs 77 loss 59.58269119262695\n",
      "Epocs 78 loss 58.73179626464844\n",
      "Epocs 79 loss 57.890499114990234\n",
      "Epocs 80 loss 57.0587272644043\n",
      "Epocs 81 loss 56.23640441894531\n",
      "Epocs 82 loss 55.423484802246094\n",
      "Epocs 83 loss 54.6198844909668\n",
      "Epocs 84 loss 53.825523376464844\n",
      "Epocs 85 loss 53.040340423583984\n",
      "Epocs 86 loss 52.26426696777344\n",
      "Epocs 87 loss 51.49722671508789\n",
      "Epocs 88 loss 50.73917007446289\n",
      "Epocs 89 loss 49.9900016784668\n",
      "Epocs 90 loss 49.24966812133789\n",
      "Epocs 91 loss 48.518089294433594\n",
      "Epocs 92 loss 47.79520034790039\n",
      "Epocs 93 loss 47.0809326171875\n",
      "Epocs 94 loss 46.37522506713867\n",
      "Epocs 95 loss 45.6779899597168\n",
      "Epocs 96 loss 44.989173889160156\n",
      "Epocs 97 loss 44.3087043762207\n",
      "Epocs 98 loss 43.636505126953125\n",
      "Epocs 99 loss 42.97251892089844\n",
      "Epocs 100 loss 42.31666564941406\n",
      "Gpu Time 0.531749963760376\n"
     ]
    }
   ],
   "source": [
    "a = time.time()\n",
    "if torch.cuda.is_available():\n",
    "    print('Cuda Available')\n",
    "\n",
    "    epochs = 100\n",
    "\n",
    "    for epoch in range(1, epochs+1):\n",
    "\n",
    "        # Convert Numpy array to torch\n",
    "        inputs = Variable(torch.from_numpy(x_train).cuda())\n",
    "        labels = Variable(torch.from_numpy(y_train).cuda())\n",
    "\n",
    "        # Clear Gradeients WRT\n",
    "        optimizer.zero_grad()\n",
    "\n",
    "        # Forward to get output \n",
    "        outputs = model(inputs)\n",
    "\n",
    "        # Calculate Loss\n",
    "        loss = criteration(outputs, labels)\n",
    "\n",
    "        # Getting Gradients w.r.t param\n",
    "        loss.backward()\n",
    "\n",
    "        # Updating Parm\n",
    "        optimizer.step()\n",
    "\n",
    "        print('Epocs', epoch, 'loss', loss.data[0])\n",
    "        \n",
    "print('Gpu Time', time.time() - a)"
   ]
  }
 ],
 "metadata": {
  "kernelspec": {
   "display_name": "Python 3",
   "language": "python",
   "name": "python3"
  },
  "language_info": {
   "codemirror_mode": {
    "name": "ipython",
    "version": 3
   },
   "file_extension": ".py",
   "mimetype": "text/x-python",
   "name": "python",
   "nbconvert_exporter": "python",
   "pygments_lexer": "ipython3",
   "version": "3.6.1"
  }
 },
 "nbformat": 4,
 "nbformat_minor": 2
}
